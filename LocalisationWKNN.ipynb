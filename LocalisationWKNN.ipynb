{
  "nbformat": 4,
  "nbformat_minor": 0,
  "metadata": {
    "colab": {
      "name": "Localisation.ipynb",
      "provenance": [],
      "collapsed_sections": [],
      "mount_file_id": "1PIiNA1-qLqrERna9aTGn4I66Ddw-QXMm",
      "authorship_tag": "ABX9TyOR+lFCnN+NQ3ugKZGpmPk1"
    },
    "kernelspec": {
      "name": "python3",
      "display_name": "Python 3"
    },
    "language_info": {
      "name": "python"
    }
  },
  "cells": [
    {
      "cell_type": "code",
      "metadata": {
        "id": "hJsqKKlrC9vk"
      },
      "source": [
        "import pandas as pd\n",
        "import numpy as np\n",
        "from sklearn.preprocessing import MinMaxScaler\n",
        "from sklearn.neighbors import KNeighborsRegressor"
      ],
      "execution_count": null,
      "outputs": []
    },
    {
      "cell_type": "code",
      "metadata": {
        "id": "okcDHyi6EqJL"
      },
      "source": [
        "#x_train=\n",
        "#y_train=pd.read_csv('/content/drive/MyDrive/Localisation_models/data1/trn01crd.csv',header=None)\n",
        "#x_test=pd.read_csv('/content/drive/MyDrive/Localisation_models/data1/tst01rss.csv',header=None)\n",
        "#y_test=pd.read_csv('/content/drive/MyDrive/Localisation_models/data1/tst01crd.csv',header=None)"
      ],
      "execution_count": null,
      "outputs": []
    },
    {
      "cell_type": "code",
      "metadata": {
        "id": "jyt9kG7ES9Bz"
      },
      "source": [
        "#concatenating the test data files of 6 months\n",
        "'''x_ts1=pd.read_csv('/content/drive/MyDrive/Localisation_models/data1/01/tst01rss.csv',header=None)\n",
        "y_ts1=pd.read_csv('/content/drive/MyDrive/Localisation_models/data1/01/tst01crd.csv',header=None)\n",
        "\n",
        "for x in range(1,6):\n",
        "  if(x>9):\n",
        "    x_ts=x_ts.append(pd.read_csv(\"/content/drive/MyDrive/Localisation_models/data1/01/tst\"+str(x)+\"rss.csv\",header=None))\n",
        "    y_ts=y_ts.append(pd.read_csv(\"/content/drive/MyDrive/Localisation_models/data1/01/tst\"+str(x)+\"crd.csv\",header=None))\n",
        "  else:\n",
        "    x_ts=x_ts.append(pd.read_csv(\"/content/drive/MyDrive/Localisation_models/data1/01/tst0\"+str(x)+\"rss.csv\",header=None))\n",
        "    y_ts=y_ts.append(pd.read_csv(\"/content/drive/MyDrive/Localisation_models/data1/01/tst0\"+str(x)+\"crd.csv\",header=None))'''"
      ],
      "execution_count": null,
      "outputs": []
    },
    {
      "cell_type": "code",
      "metadata": {
        "id": "0kL9bL-bbMPu"
      },
      "source": [
        "\n",
        "x_tr1=pd.read_csv('/content/drive/MyDrive/Localisation_models/data1/01/trn01rss.csv',header=None)#first month\n",
        "y_tr1=pd.read_csv('/content/drive/MyDrive/Localisation_models/data1/01/trn01crd.csv',header=None)#first month\n",
        "#concatenating the train data files of 14 months\n",
        "x_tr=pd.read_csv('/content/drive/MyDrive/Localisation_models/data1/01/trn02rss.csv',header=None)\n",
        "y_tr=pd.read_csv('/content/drive/MyDrive/Localisation_models/data1/01/trn02crd.csv',header=None)\n",
        "for x in range(3,16):\n",
        "  if(x>9):\n",
        "    x_tr=x_tr.append(pd.read_csv(\"/content/drive/MyDrive/Localisation_models/data1/01/trn\"+str(x)+\"rss.csv\",header=None))\n",
        "    y_tr=y_tr.append(pd.read_csv(\"/content/drive/MyDrive/Localisation_models/data1/01/trn\"+str(x)+\"crd.csv\",header=None))\n",
        "  else:\n",
        "    x_tr=x_tr.append(pd.read_csv(\"/content/drive/MyDrive/Localisation_models/data1/01/trn0\"+str(x)+\"rss.csv\",header=None))\n",
        "    y_tr=y_tr.append(pd.read_csv(\"/content/drive/MyDrive/Localisation_models/data1/01/trn0\"+str(x)+\"crd.csv\",header=None))"
      ],
      "execution_count": null,
      "outputs": []
    },
    {
      "cell_type": "code",
      "metadata": {
        "colab": {
          "base_uri": "https://localhost:8080/"
        },
        "id": "XvjUjGgGa8U6",
        "outputId": "f270202b-ccc2-40c7-e510-48f2b46a7571"
      },
      "source": [
        "print(y_tr[0].max())\n",
        "print(y_tr[0].min())\n",
        "print(y_tr[1].max())\n",
        "print(y_tr[1].min())\n",
        "print(y_tr[0].var())\n",
        "print(y_tr[1].var())"
      ],
      "execution_count": null,
      "outputs": [
        {
          "output_type": "stream",
          "text": [
            "12.91385188\n",
            "4.1347719\n",
            "29.21654402\n",
            "16.69981527\n",
            "12.84696734178349\n",
            "16.787905675947762\n"
          ],
          "name": "stdout"
        }
      ]
    },
    {
      "cell_type": "code",
      "metadata": {
        "colab": {
          "base_uri": "https://localhost:8080/"
        },
        "id": "2A4vjycXWyUh",
        "outputId": "14e38ebe-6281-4f8f-9a26-b05931994a24"
      },
      "source": [
        "print(x_tr.shape)\n",
        "print(y_tr.shape)"
      ],
      "execution_count": null,
      "outputs": [
        {
          "output_type": "stream",
          "text": [
            "(8064, 620)\n",
            "(8064, 3)\n"
          ],
          "name": "stdout"
        }
      ]
    },
    {
      "cell_type": "code",
      "metadata": {
        "colab": {
          "base_uri": "https://localhost:8080/",
          "height": 204
        },
        "id": "C4i36JRpFE1C",
        "outputId": "3129e10a-4634-4cfa-995c-af03cfeab656"
      },
      "source": [
        "#x_train.head()\n",
        "#y_train.head()\n",
        "#x_test.head()\n",
        "#y_test.head()\n"
      ],
      "execution_count": null,
      "outputs": [
        {
          "output_type": "execute_result",
          "data": {
            "text/html": [
              "<div>\n",
              "<style scoped>\n",
              "    .dataframe tbody tr th:only-of-type {\n",
              "        vertical-align: middle;\n",
              "    }\n",
              "\n",
              "    .dataframe tbody tr th {\n",
              "        vertical-align: top;\n",
              "    }\n",
              "\n",
              "    .dataframe thead th {\n",
              "        text-align: right;\n",
              "    }\n",
              "</style>\n",
              "<table border=\"1\" class=\"dataframe\">\n",
              "  <thead>\n",
              "    <tr style=\"text-align: right;\">\n",
              "      <th></th>\n",
              "      <th>0</th>\n",
              "      <th>1</th>\n",
              "      <th>2</th>\n",
              "    </tr>\n",
              "  </thead>\n",
              "  <tbody>\n",
              "    <tr>\n",
              "      <th>0</th>\n",
              "      <td>12.913852</td>\n",
              "      <td>29.216544</td>\n",
              "      <td>3</td>\n",
              "    </tr>\n",
              "    <tr>\n",
              "      <th>1</th>\n",
              "      <td>12.913852</td>\n",
              "      <td>29.216544</td>\n",
              "      <td>3</td>\n",
              "    </tr>\n",
              "    <tr>\n",
              "      <th>2</th>\n",
              "      <td>12.913852</td>\n",
              "      <td>29.216544</td>\n",
              "      <td>3</td>\n",
              "    </tr>\n",
              "    <tr>\n",
              "      <th>3</th>\n",
              "      <td>12.913852</td>\n",
              "      <td>29.216544</td>\n",
              "      <td>3</td>\n",
              "    </tr>\n",
              "    <tr>\n",
              "      <th>4</th>\n",
              "      <td>12.913852</td>\n",
              "      <td>29.216544</td>\n",
              "      <td>3</td>\n",
              "    </tr>\n",
              "  </tbody>\n",
              "</table>\n",
              "</div>"
            ],
            "text/plain": [
              "           0          1  2\n",
              "0  12.913852  29.216544  3\n",
              "1  12.913852  29.216544  3\n",
              "2  12.913852  29.216544  3\n",
              "3  12.913852  29.216544  3\n",
              "4  12.913852  29.216544  3"
            ]
          },
          "metadata": {
            "tags": []
          },
          "execution_count": 8
        }
      ]
    },
    {
      "cell_type": "code",
      "metadata": {
        "id": "JD55invHGmLX"
      },
      "source": [
        "x_tr=x_tr.to_numpy()\n"
      ],
      "execution_count": null,
      "outputs": []
    },
    {
      "cell_type": "code",
      "metadata": {
        "id": "0xlQQy3MIlgY"
      },
      "source": [
        "#x_test=x_test.to_numpy()\n",
        "y_tr=y_tr.to_numpy()\n",
        "#y_test=y_test.to_numpy()\n"
      ],
      "execution_count": null,
      "outputs": []
    },
    {
      "cell_type": "code",
      "metadata": {
        "id": "5oX61m_pss4r"
      },
      "source": [
        "x_tr1=x_tr1.to_numpy()\n",
        "y_tr1=y_tr1.to_numpy()"
      ],
      "execution_count": null,
      "outputs": []
    },
    {
      "cell_type": "code",
      "metadata": {
        "id": "1Z8F27_bdxgu"
      },
      "source": [
        "x_ts=x_ts.to_numpy()\n",
        "y_ts=y_ts.to_numpy()\n",
        "y_ts=y_ts[:,0:2]\n"
      ],
      "execution_count": null,
      "outputs": []
    },
    {
      "cell_type": "code",
      "metadata": {
        "colab": {
          "base_uri": "https://localhost:8080/"
        },
        "id": "pZGUsk0rH18a",
        "outputId": "c9f96901-a6b0-427e-90d7-5cf747b2a321"
      },
      "source": [
        "y_train[0:5,]"
      ],
      "execution_count": null,
      "outputs": [
        {
          "output_type": "execute_result",
          "data": {
            "text/plain": [
              "array([[12.91385188, 29.21654402,  3.        ],\n",
              "       [12.91385188, 29.21654402,  3.        ],\n",
              "       [12.91385188, 29.21654402,  3.        ],\n",
              "       [12.91385188, 29.21654402,  3.        ],\n",
              "       [12.91385188, 29.21654402,  3.        ]])"
            ]
          },
          "metadata": {
            "tags": []
          },
          "execution_count": 32
        }
      ]
    },
    {
      "cell_type": "code",
      "metadata": {
        "id": "qsMRP6oMLM0H"
      },
      "source": [
        "y_tr=y_tr[:,0:2]"
      ],
      "execution_count": null,
      "outputs": []
    },
    {
      "cell_type": "code",
      "metadata": {
        "id": "XBtvF3wes-8n"
      },
      "source": [
        "y_tr1=y_tr1[:,0:2]"
      ],
      "execution_count": null,
      "outputs": []
    },
    {
      "cell_type": "code",
      "metadata": {
        "id": "tLT4T3vCLgsu"
      },
      "source": [
        "y_test=y_test[:,0:2]"
      ],
      "execution_count": null,
      "outputs": []
    },
    {
      "cell_type": "code",
      "metadata": {
        "colab": {
          "base_uri": "https://localhost:8080/"
        },
        "id": "hqdZDoCnLZTA",
        "outputId": "42b92dbc-2bee-4b45-fb68-6676bf7c2a63"
      },
      "source": [
        "y_tr[0:5,]"
      ],
      "execution_count": null,
      "outputs": [
        {
          "output_type": "execute_result",
          "data": {
            "text/plain": [
              "array([[12.91385188, 29.21654402],\n",
              "       [12.91385188, 29.21654402],\n",
              "       [12.91385188, 29.21654402],\n",
              "       [12.91385188, 29.21654402],\n",
              "       [12.91385188, 29.21654402]])"
            ]
          },
          "metadata": {
            "tags": []
          },
          "execution_count": 93
        }
      ]
    },
    {
      "cell_type": "code",
      "metadata": {
        "id": "Sit7A2FGJDYK"
      },
      "source": [
        "scaler = MinMaxScaler()\n",
        "x_tr = scaler.fit_transform(x_tr)"
      ],
      "execution_count": null,
      "outputs": []
    },
    {
      "cell_type": "code",
      "metadata": {
        "id": "vVLKUgFhJfVc"
      },
      "source": [
        "x_test=scaler.fit_transform(x_test)"
      ],
      "execution_count": null,
      "outputs": []
    },
    {
      "cell_type": "code",
      "metadata": {
        "id": "tvRAJ8kAeGWW"
      },
      "source": [
        "x_tr1=scaler.fit_transform(x_tr1)"
      ],
      "execution_count": null,
      "outputs": []
    },
    {
      "cell_type": "code",
      "metadata": {
        "colab": {
          "base_uri": "https://localhost:8080/"
        },
        "id": "VXsAOvS1J1pb",
        "outputId": "f8aee7da-9ab8-49fa-9c5a-47d978f3ea6a"
      },
      "source": [
        "#KNN regressor fitted on training data of 1 month and tested on other 14 months\n",
        "for x in range (1,7):\n",
        "   neigh = KNeighborsRegressor(n_neighbors=x,weights='distance',algorithm='kd_tree')\n",
        "   neigh.fit(x_tr1,y_tr1)\n",
        "   y_pred=neigh.predict(x_tr)\n",
        "   print(\"localisation error for k value %f is %f \"%(x,localization_error(y_pred,y_tr)))"
      ],
      "execution_count": null,
      "outputs": [
        {
          "output_type": "stream",
          "text": [
            "localisation error for k value 1.000000 is 3.364800 \n",
            "localisation error for k value 2.000000 is 3.144244 \n",
            "localisation error for k value 3.000000 is 3.074243 \n",
            "localisation error for k value 4.000000 is 3.039011 \n",
            "localisation error for k value 5.000000 is 3.001448 \n",
            "localisation error for k value 6.000000 is 2.973983 \n"
          ],
          "name": "stdout"
        }
      ]
    },
    {
      "cell_type": "code",
      "metadata": {
        "colab": {
          "base_uri": "https://localhost:8080/"
        },
        "id": "3EYcIGW7FyuA",
        "outputId": "1d950b0e-1bff-4281-971e-3779f4f12d71"
      },
      "source": [
        "x=7\n",
        "print(\"it is %u %f\"%(x,9))"
      ],
      "execution_count": null,
      "outputs": [
        {
          "output_type": "stream",
          "text": [
            "it is 7 9.000000\n"
          ],
          "name": "stdout"
        }
      ]
    },
    {
      "cell_type": "code",
      "metadata": {
        "id": "jcDonLJraks-"
      },
      "source": [
        ""
      ],
      "execution_count": null,
      "outputs": []
    },
    {
      "cell_type": "code",
      "metadata": {
        "id": "O9UD6lX7K8q6"
      },
      "source": [
        "y_pred=neigh.predict(x_test)"
      ],
      "execution_count": null,
      "outputs": []
    },
    {
      "cell_type": "code",
      "metadata": {
        "colab": {
          "base_uri": "https://localhost:8080/"
        },
        "id": "k4FP9BnULGZA",
        "outputId": "151ba5b3-c62a-4718-8e1b-d8ac9989407a"
      },
      "source": [
        "y_pred[0:20,]"
      ],
      "execution_count": null,
      "outputs": [
        {
          "output_type": "execute_result",
          "data": {
            "text/plain": [
              "array([[12.91385188, 27.78564691],\n",
              "       [ 6.76211023, 28.14658687],\n",
              "       [12.03579013, 27.42931594],\n",
              "       [12.03472907, 28.50031265],\n",
              "       [12.91385188, 27.78430612],\n",
              "       [ 8.52934389, 24.92731898],\n",
              "       [ 7.6453178 , 28.14482923],\n",
              "       [ 4.1347719 , 28.85948176],\n",
              "       [ 7.64740603, 27.42952422],\n",
              "       [ 7.64379531, 28.14291961],\n",
              "       [ 7.64067153, 27.78555171],\n",
              "       [ 7.64102552, 28.14346002],\n",
              "       [ 6.76454472, 27.42860517],\n",
              "       [ 5.00479178, 26.70619475],\n",
              "       [ 6.76460017, 27.78573785],\n",
              "       [ 5.01414112, 26.35676792],\n",
              "       [ 7.64636137, 27.7858736 ],\n",
              "       [ 4.1347719 , 26.35536089],\n",
              "       [12.91385188, 27.78813481],\n",
              "       [ 6.76715254, 27.42772007]])"
            ]
          },
          "metadata": {
            "tags": []
          },
          "execution_count": 26
        }
      ]
    },
    {
      "cell_type": "code",
      "metadata": {
        "colab": {
          "base_uri": "https://localhost:8080/"
        },
        "id": "S3FFV1IiSozQ",
        "outputId": "c0287833-caeb-4609-8349-6b0c65c69983"
      },
      "source": [
        "y_test[0:20]"
      ],
      "execution_count": null,
      "outputs": [
        {
          "output_type": "execute_result",
          "data": {
            "text/plain": [
              "array([[12.91385188, 29.21654402],\n",
              "       [12.91385188, 29.21654402],\n",
              "       [12.91385188, 29.21654402],\n",
              "       [12.91385188, 29.21654402],\n",
              "       [12.91385188, 29.21654402],\n",
              "       [12.91385188, 29.21654402],\n",
              "       [ 8.52431189, 29.21654402],\n",
              "       [ 8.52431189, 29.21654402],\n",
              "       [ 8.52431189, 29.21654402],\n",
              "       [ 8.52431189, 29.21654402],\n",
              "       [ 8.52431189, 29.21654402],\n",
              "       [ 8.52431189, 29.21654402],\n",
              "       [ 4.1347719 , 29.21654402],\n",
              "       [ 4.1347719 , 29.21654402],\n",
              "       [ 4.1347719 , 29.21654402],\n",
              "       [ 4.1347719 , 29.21654402],\n",
              "       [ 4.1347719 , 29.21654402],\n",
              "       [ 4.1347719 , 29.21654402],\n",
              "       [12.91385188, 27.42843992],\n",
              "       [12.91385188, 27.42843992]])"
            ]
          },
          "metadata": {
            "tags": []
          },
          "execution_count": 28
        }
      ]
    },
    {
      "cell_type": "code",
      "metadata": {
        "id": "mRX6BD28TFMw"
      },
      "source": [
        "from numpy import sqrt, square, sum\n",
        "def localization_error(prediction, truth):\n",
        "    \n",
        "    l=prediction.shape[0]\n",
        "    x, y  = prediction[:,0], prediction[:,1]\n",
        "    x0, y0 = truth[:,0], truth[:,1]\n",
        "    error = sqrt(square(x - x0) + square(y - y0))\n",
        "    return error.sum()/l"
      ],
      "execution_count": null,
      "outputs": []
    },
    {
      "cell_type": "code",
      "metadata": {
        "colab": {
          "base_uri": "https://localhost:8080/"
        },
        "id": "Adj_bX-OxwMW",
        "outputId": "c9ea5db9-2d1f-44b2-959d-d65f81148d6b"
      },
      "source": [
        "a1=np.array([[1,2],[1,2]])\n",
        "a2=np.array([[3,4],[6,7]])\n",
        "print(localization_error(a1,a2))"
      ],
      "execution_count": null,
      "outputs": [
        {
          "output_type": "stream",
          "text": [
            "4.949747468305833\n"
          ],
          "name": "stdout"
        }
      ]
    },
    {
      "cell_type": "code",
      "metadata": {
        "colab": {
          "base_uri": "https://localhost:8080/"
        },
        "id": "tQB42NJczrgK",
        "outputId": "56b82811-3366-4ece-fc3f-ecb0f94a0e59"
      },
      "source": [
        "print(localization_error(y_pred,y_test))\n",
        "#from sklearn.metrics import mean_squared_error\n",
        "#print(mean_squared_error(y_test, y_pred))"
      ],
      "execution_count": null,
      "outputs": [
        {
          "output_type": "stream",
          "text": [
            "3.0747893101610444\n"
          ],
          "name": "stdout"
        }
      ]
    },
    {
      "cell_type": "code",
      "metadata": {
        "colab": {
          "base_uri": "https://localhost:8080/"
        },
        "id": "00mSzH0kJP0m",
        "outputId": "73fc729f-9986-4864-bbc7-9fb898763365"
      },
      "source": [
        "x_train[0:5,]"
      ],
      "execution_count": null,
      "outputs": [
        {
          "output_type": "execute_result",
          "data": {
            "text/plain": [
              "array([[0.02564103, 0.17346939, 0.13333333, ..., 0.        , 0.        ,\n",
              "        0.        ],\n",
              "       [0.01025641, 0.15816327, 0.14358974, ..., 0.        , 0.        ,\n",
              "        0.        ],\n",
              "       [0.03589744, 0.16326531, 0.13846154, ..., 0.        , 0.        ,\n",
              "        0.        ],\n",
              "       [0.02564103, 0.16836735, 0.14871795, ..., 0.        , 0.        ,\n",
              "        0.        ],\n",
              "       [1.        , 0.16326531, 0.13846154, ..., 0.        , 0.        ,\n",
              "        0.        ]])"
            ]
          },
          "metadata": {
            "tags": []
          },
          "execution_count": 21
        }
      ]
    }
  ]
}